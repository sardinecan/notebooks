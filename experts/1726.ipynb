{
 "cells": [
  {
   "cell_type": "markdown",
   "id": "87faaa9c-b888-4cd4-ab43-732c533b0136",
   "metadata": {
    "tags": []
   },
   "source": [
    "# xprStats"
   ]
  },
  {
   "cell_type": "code",
   "execution_count": null,
   "id": "9517c56b-ee8c-4682-88d5-9e794f6f3767",
   "metadata": {
    "tags": []
   },
   "outputs": [],
   "source": [
    "# lib\n",
    "from urllib.request import urlopen\n",
    "import json  \n",
    "import pandas as pd"
   ]
  },
  {
   "cell_type": "code",
   "execution_count": null,
   "id": "37a79c44-0373-4b32-9c93-f754a0196381",
   "metadata": {
    "tags": []
   },
   "outputs": [],
   "source": [
    "# Récupération des donnée \n",
    "# param (date or thirdParty)\n",
    "param = \"1706\"\n",
    "\n",
    "# url\n",
    "url = \"https://experts.huma-num.fr/xpr/statistics/\" + param\n",
    "\n",
    "# enregistrement de la réponse\n",
    "response = urlopen(url)\n",
    "\n",
    "# lecture du json\n",
    "data = json.loads(response.read())\n",
    "  \n",
    "# print the json response\n",
    "#print(data)\n"
   ]
  },
  {
   "cell_type": "markdown",
   "id": "72635dfe-9bf0-483a-b9d9-14e696fa71b2",
   "metadata": {},
   "source": [
    "## Expertises"
   ]
  },
  {
   "cell_type": "code",
   "execution_count": null,
   "id": "fa2c8824-490c-4edf-b4b8-f0543861c8a0",
   "metadata": {
    "tags": []
   },
   "outputs": [],
   "source": [
    "expertises = data['expertises']"
   ]
  },
  {
   "cell_type": "code",
   "execution_count": null,
   "id": "aad9a332-9889-4286-8cc3-23527045a759",
   "metadata": {
    "tags": []
   },
   "outputs": [],
   "source": [
    "print(\"Nombre total d'expertises : \" + str(expertises['total']))"
   ]
  },
  {
   "cell_type": "markdown",
   "id": "7d998183-cdd7-47a4-bc97-0459b24451cb",
   "metadata": {},
   "source": [
    "### Croquis"
   ]
  },
  {
   "cell_type": "code",
   "execution_count": null,
   "id": "e6be48ab-b042-473b-95c3-61a5e84d7f6a",
   "metadata": {
    "tags": []
   },
   "outputs": [],
   "source": [
    "sketchesDF = pd.json_normalize(expertises['sketches'])\n",
    "print(sketchesDF.to_string(index=False))"
   ]
  },
  {
   "cell_type": "markdown",
   "id": "925cbfb1-b0a9-4ede-a710-3ab13dd9711f",
   "metadata": {},
   "source": [
    "### Étendue"
   ]
  },
  {
   "cell_type": "code",
   "execution_count": null,
   "id": "c8447158-c01e-4314-86ce-3265f5330919",
   "metadata": {
    "tags": []
   },
   "outputs": [],
   "source": [
    "extent = expertises['extent']\n",
    "#print(extent)\n",
    "\n",
    "print('Nombre de feuillets : ' + str(extent['total']))\n",
    "\n",
    "print('Moyenne par expertise : ' + str(extent['averageByExpertise']))\n",
    "\n",
    "#Distribution\n",
    "print('Distribution :')\n",
    "keys = []\n",
    "values = []\n",
    "for dic in extent['extentDistribution']:\n",
    "    for key, val in dic.items():\n",
    "        keys.append(key),\n",
    "        values.append(val)        \n",
    "\n",
    "extentDistributionDict = {'nombre de feuillets': keys, 'nombre d’expertises': values,} \n",
    "print(pd.DataFrame(extentDistributionDict).to_string(index=False))"
   ]
  },
  {
   "cell_type": "markdown",
   "id": "9184e55a-b39e-43c3-9d01-ab7a2cf4c04a",
   "metadata": {},
   "source": [
    "### Annexes"
   ]
  },
  {
   "cell_type": "code",
   "execution_count": null,
   "id": "17f0152b-91ee-4c4c-bbee-016bb78f09f2",
   "metadata": {
    "tags": []
   },
   "outputs": [],
   "source": [
    "appendices = expertises['appendices']\n",
    "#print(appendices)\n",
    "\n",
    "print(f\"{appendices['total']} annexes\")\n",
    "\n",
    "\n",
    "print(f\"{appendices['expertisesWithAppendices']} expertises avec annexes ; {appendices['expertisesWithoutAppendices']} expertises sans annexes\")\n",
    "\n",
    "\n",
    "df=pd.json_normalize(appendices['types'])\n",
    "print(df.to_string(columns=['label', 'total', 'expertises'], index=False))\n"
   ]
  },
  {
   "cell_type": "markdown",
   "id": "46b5bd50-c771-438f-a63c-5d180e5741af",
   "metadata": {},
   "source": [
    "### Vacations"
   ]
  },
  {
   "cell_type": "code",
   "execution_count": null,
   "id": "80d02c5d-faaa-449d-845b-b010cb74cd21",
   "metadata": {
    "tags": []
   },
   "outputs": [],
   "source": [
    "sessions = expertises['sessions']\n",
    "#print(sessions)\n",
    "\n",
    "print(f\"{sessions['total']} vacations\")\n",
    "\n",
    "\n",
    "print(f\"en moyenne {sessions['averageByExpertise']} vacations par expertise\")"
   ]
  },
  {
   "cell_type": "markdown",
   "id": "a273b191-8902-4648-8ed1-536717572938",
   "metadata": {},
   "source": [
    "Nombre de vacation par lieu"
   ]
  },
  {
   "cell_type": "code",
   "execution_count": null,
   "id": "d80fbdc1-d8ff-4304-9ae6-77cfc62c7f3f",
   "metadata": {
    "tags": []
   },
   "outputs": [],
   "source": [
    "sessionsDf=pd.json_normalize(sessions['places'])\n",
    "print(sessionsDf.to_string(columns=['label', 'total'], index=False))"
   ]
  },
  {
   "cell_type": "markdown",
   "id": "c1abf190-2759-490d-84be-f8523e4b65b2",
   "metadata": {},
   "source": [
    "### Durée"
   ]
  },
  {
   "cell_type": "code",
   "execution_count": null,
   "id": "ac5dad7c-c5e4-4269-b176-e58e6e519658",
   "metadata": {
    "tags": []
   },
   "outputs": [],
   "source": [
    "duration = expertises['duration']\n",
    "#print(duration)"
   ]
  },
  {
   "cell_type": "markdown",
   "id": "76f4c606-e806-4aee-889e-8331b09f6a35",
   "metadata": {},
   "source": [
    "#### Jours"
   ]
  },
  {
   "cell_type": "code",
   "execution_count": null,
   "id": "d1416f5f-feee-46a9-a2bd-2a9d6145d7bb",
   "metadata": {
    "tags": []
   },
   "outputs": [],
   "source": [
    "#Distribution\n",
    "durationDays = duration['days']\n",
    "#print(durationDays)\n",
    "print('Distribution :')\n",
    "keys = []\n",
    "values = []\n",
    "for dic in durationDays['distributionByDays']:\n",
    "    for key, val in dic.items():\n",
    "        keys.append(key),\n",
    "        values.append(val)        \n",
    "\n",
    "durationDaysDf = {'nombre de jours': keys, 'nombre d’expertises': values,} \n",
    "print(pd.DataFrame(durationDaysDf).to_string(index=False))"
   ]
  },
  {
   "cell_type": "markdown",
   "id": "04cfb04a-1a60-4678-a04d-23661ab0ad9a",
   "metadata": {},
   "source": [
    "#### Vacations"
   ]
  },
  {
   "cell_type": "code",
   "execution_count": null,
   "id": "0a3aa7b2-9d54-410c-985d-d466c514785e",
   "metadata": {
    "tags": []
   },
   "outputs": [],
   "source": [
    "#Distribution\n",
    "durationSessions = duration['sessions']\n",
    "#print(durationDays)\n",
    "print(f\"{durationSessions['total']} vacations, soit en moyenne {durationSessions['averageByExpertise']} vacations par expertise.\")"
   ]
  },
  {
   "cell_type": "markdown",
   "id": "e871d5e6-fc1b-4d83-a8e3-ea5c1b6ec826",
   "metadata": {},
   "source": [
    "### Lieux"
   ]
  },
  {
   "cell_type": "code",
   "execution_count": null,
   "id": "80b06885-5a5c-4aec-b869-999f2fb0c5fb",
   "metadata": {
    "tags": []
   },
   "outputs": [],
   "source": [
    "places = expertises['places']\n",
    "#print(places)\n",
    "\n",
    "placesDf=pd.json_normalize(places)\n",
    "print(placesDf.to_string(columns=['place', 'total'], index=False))"
   ]
  },
  {
   "cell_type": "markdown",
   "id": "d2a4ac9e-6f05-452e-b5b6-e0e03964e626",
   "metadata": {},
   "source": [
    "### Procédures et cadres"
   ]
  },
  {
   "cell_type": "code",
   "execution_count": null,
   "id": "fbad9913-b95c-4603-8ef7-87b25a59c8d4",
   "metadata": {
    "tags": []
   },
   "outputs": [],
   "source": [
    "frameworks = expertises['frameworks']\n",
    "#print(frameworks)\n",
    "\n",
    "frameworksDf=pd.json_normalize(frameworks)\n",
    "print(frameworksDf.to_string(columns=['label', 'framework', 'total'], index=False))"
   ]
  },
  {
   "cell_type": "markdown",
   "id": "6ba91161-524d-48ec-877a-ad3c2f7a01f8",
   "metadata": {},
   "source": [
    "### Catégories"
   ]
  },
  {
   "cell_type": "code",
   "execution_count": null,
   "id": "43f2b78c-6fff-4ab3-a573-39f1b86bd3ba",
   "metadata": {
    "tags": []
   },
   "outputs": [],
   "source": [
    "categories = expertises['categories']\n",
    "\n",
    "for cat in categories:\n",
    "    if cat['total'] != 0: print(f\"{cat['label']} : {cat['total']} expertises\"),\n",
    "    for framework in cat['frameworks']:\n",
    "        if framework['total'] != 0: print(f\"\\t{framework['framework']} : {framework['total']} expertises\"),\n",
    "        for place in framework['places']:\n",
    "            if place['total'] != 0: print(f\"\\t\\t{place['place']} : {place['total']}\"),\n",
    "            for obj in place['objects']:\n",
    "                if obj['total'] != 0: print(f\"\\t\\t\\t{obj['label']} : {obj['total']}\")\n",
    "        print('\\n')\n",
    "    print('\\n')"
   ]
  },
  {
   "cell_type": "markdown",
   "id": "2dac8b3a-826d-4569-b600-021b64e28810",
   "metadata": {},
   "source": [
    "### Tiers expertises"
   ]
  },
  {
   "cell_type": "code",
   "execution_count": null,
   "id": "7c248181-524d-404f-84ec-acdaa885c244",
   "metadata": {},
   "outputs": [],
   "source": [
    "thirdParty = expertises['thirdParty']"
   ]
  },
  {
   "cell_type": "code",
   "execution_count": null,
   "id": "4c76d58c-f579-4233-8c4d-a48fb96f5699",
   "metadata": {},
   "outputs": [],
   "source": [
    "thirdPartyDf=pd.json_normalize(thirdParty)\n",
    "print(thirdPartyDf.to_string(columns=['architectes', 'entrepreneurs', 'total'], index=False))"
   ]
  },
  {
   "cell_type": "markdown",
   "id": "a7110fc8-20f7-45bd-a848-f4793e3fa2e9",
   "metadata": {},
   "source": [
    "### Distribution (hors tiers expertises)"
   ]
  },
  {
   "cell_type": "code",
   "execution_count": null,
   "id": "4535ae8a-7b69-4200-8f52-e04c273b773e",
   "metadata": {},
   "outputs": [],
   "source": [
    "columnDistrib = expertises['experts']\n",
    "\n",
    "for column in columnDistrib:\n",
    "    print(f\"{column['totalExperts']} expert(s) : {column['totalExpertises']} expertises\"),\n",
    "    if column['totalExperts']<3: print(pd.json_normalize(column['distribution']).to_string(columns=['label', 'total'], index=False))\n",
    "    print('\\n')\n",
    "    "
   ]
  },
  {
   "cell_type": "markdown",
   "id": "0c3e0e20-ddb2-4486-9a5a-5965675afd5b",
   "metadata": {},
   "source": [
    "## Experts"
   ]
  },
  {
   "cell_type": "code",
   "execution_count": null,
   "id": "7406cab5-bbfc-4563-8f9e-baa42ad50acf",
   "metadata": {},
   "outputs": [],
   "source": [
    "experts = data['experts']\n",
    "#print(experts)"
   ]
  },
  {
   "cell_type": "code",
   "execution_count": null,
   "id": "172e038a-efe5-4e21-85ec-320420240939",
   "metadata": {},
   "outputs": [],
   "source": [
    "print(f\"Nombre d’experts : {experts['total']}\")\n",
    "print(f\"{experts['architects']} architectes\")\n",
    "print(f\"{experts['entrepreneur']} entrepreneurs\")\n",
    "print(f\"{experts['surveyor']} arpenteurs\")"
   ]
  },
  {
   "cell_type": "code",
   "execution_count": null,
   "id": "c35ea806-6879-4452-bc3c-8e8f009cdaf2",
   "metadata": {},
   "outputs": [],
   "source": [
    "listExperts = experts['list']\n",
    "listExpertsDf = pd.DataFrame(listExperts)\n",
    "listExpertsDf.drop('expertises', inplace=True, axis=1)"
   ]
  },
  {
   "cell_type": "code",
   "execution_count": null,
   "id": "add06834-aace-4d91-932e-d70f432a0c92",
   "metadata": {
    "tags": []
   },
   "outputs": [],
   "source": [
    "print(listExpertsDf.to_string(columns=['id', 'name', 'column', 'age'], index=False))"
   ]
  },
  {
   "cell_type": "code",
   "execution_count": null,
   "id": "7c7a6d18-49ce-4660-a42c-75ee61ced4cb",
   "metadata": {},
   "outputs": [],
   "source": [
    "for expert in listExperts:\n",
    "    print(f\"{expert['name']} ; {expert['column']} ; {expert['expertises']['total']} expertises ; {expert['expertises']['thirParty']} expertises en tant que tiers-expert ; {expert['expertises']['collab']['total']} expertises avec d'autres experts (tiers expertises comprises)\"),\n",
    "    print(\"\\n\")\n",
    "    \n",
    "    collabDF = pd.json_normalize(expert['expertises']['collab']['experts']) \n",
    "    if expert['expertises']['collab']['total'] != 0: print(collabDF.to_string(columns=['id', 'name', 'column', 'totalCollab', 'age'], index=False))\n",
    "    print(\"\\n\")\n",
    "    categoriesDef = pd.json_normalize(expert['expertises']['categories'])\n",
    "    print(categoriesDef.to_string(columns=['label', 'total'], index=False))\n",
    "\n",
    "    print(\"\\n\")\n",
    "    print(\"\\n\")"
   ]
  },
  {
   "cell_type": "code",
   "execution_count": null,
   "id": "c332ed43-c070-4387-9909-9b98cc4e4526",
   "metadata": {},
   "outputs": [],
   "source": []
  },
  {
   "cell_type": "code",
   "execution_count": null,
   "id": "0b1a9672-1bd6-4075-89f6-decc84dc9d55",
   "metadata": {},
   "outputs": [],
   "source": []
  }
 ],
 "metadata": {
  "kernelspec": {
   "display_name": "Python (default)",
   "language": "python",
   "name": "python38"
  },
  "language_info": {
   "codemirror_mode": {
    "name": "ipython",
    "version": 3
   },
   "file_extension": ".py",
   "mimetype": "text/x-python",
   "name": "python",
   "nbconvert_exporter": "python",
   "pygments_lexer": "ipython3",
   "version": "3.8.13"
  }
 },
 "nbformat": 4,
 "nbformat_minor": 5
}
